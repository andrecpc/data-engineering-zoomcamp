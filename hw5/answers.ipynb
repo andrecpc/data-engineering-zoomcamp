{
 "cells": [
  {
   "cell_type": "code",
   "execution_count": 1,
   "id": "00804f96",
   "metadata": {},
   "outputs": [],
   "source": [
    "import pyspark\n",
    "from pyspark.sql import types\n",
    "from pyspark.sql import functions as F\n",
    "import pandas as pd"
   ]
  },
  {
   "cell_type": "code",
   "execution_count": 2,
   "id": "fd399abc",
   "metadata": {},
   "outputs": [],
   "source": [
    "from pyspark.sql import SparkSession"
   ]
  },
  {
   "cell_type": "code",
   "execution_count": 3,
   "id": "46484efe",
   "metadata": {},
   "outputs": [
    {
     "data": {
      "text/plain": [
       "'/root/spark/spark-3.0.3-bin-hadoop3.2/python/pyspark/__init__.py'"
      ]
     },
     "execution_count": 3,
     "metadata": {},
     "output_type": "execute_result"
    }
   ],
   "source": [
    "pyspark.__file__"
   ]
  },
  {
   "cell_type": "code",
   "execution_count": 4,
   "id": "661c0e8b",
   "metadata": {},
   "outputs": [
    {
     "name": "stderr",
     "output_type": "stream",
     "text": [
      "WARNING: An illegal reflective access operation has occurred\n",
      "WARNING: Illegal reflective access by org.apache.spark.unsafe.Platform (file:/root/spark/spark-3.0.3-bin-hadoop3.2/jars/spark-unsafe_2.12-3.0.3.jar) to constructor java.nio.DirectByteBuffer(long,int)\n",
      "WARNING: Please consider reporting this to the maintainers of org.apache.spark.unsafe.Platform\n",
      "WARNING: Use --illegal-access=warn to enable warnings of further illegal reflective access operations\n",
      "WARNING: All illegal access operations will be denied in a future release\n",
      "22/02/26 13:14:07 WARN NativeCodeLoader: Unable to load native-hadoop library for your platform... using builtin-java classes where applicable\n",
      "Using Spark's default log4j profile: org/apache/spark/log4j-defaults.properties\n",
      "Setting default log level to \"WARN\".\n",
      "To adjust logging level use sc.setLogLevel(newLevel). For SparkR, use setLogLevel(newLevel).\n",
      "22/02/26 13:14:09 WARN Utils: Service 'SparkUI' could not bind on port 4040. Attempting port 4041.\n",
      "22/02/26 13:14:09 WARN Utils: Service 'SparkUI' could not bind on port 4041. Attempting port 4042.\n",
      "22/02/26 13:14:09 WARN Utils: Service 'SparkUI' could not bind on port 4042. Attempting port 4043.\n",
      "22/02/26 13:14:09 WARN Utils: Service 'SparkUI' could not bind on port 4043. Attempting port 4044.\n"
     ]
    }
   ],
   "source": [
    "spark = SparkSession.builder \\\n",
    "    .master(\"local[*]\") \\\n",
    "    .appName('test') \\\n",
    "    .getOrCreate()"
   ]
  },
  {
   "cell_type": "markdown",
   "id": "dbbbbc74",
   "metadata": {},
   "source": [
    "## 1"
   ]
  },
  {
   "cell_type": "code",
   "execution_count": 9,
   "id": "788bc833",
   "metadata": {},
   "outputs": [
    {
     "data": {
      "text/plain": [
       "'3.0.3'"
      ]
     },
     "execution_count": 9,
     "metadata": {},
     "output_type": "execute_result"
    }
   ],
   "source": [
    "spark.version"
   ]
  },
  {
   "cell_type": "markdown",
   "id": "8e459a8f",
   "metadata": {},
   "source": [
    "Answer 1: 3.0.3"
   ]
  },
  {
   "cell_type": "markdown",
   "id": "93855daf",
   "metadata": {},
   "source": [
    "## 2"
   ]
  },
  {
   "cell_type": "code",
   "execution_count": 10,
   "id": "797a465a",
   "metadata": {},
   "outputs": [
    {
     "name": "stdout",
     "output_type": "stream",
     "text": [
      "--2022-02-26 09:46:20--  https://nyc-tlc.s3.amazonaws.com/trip+data/fhvhv_tripdata_2021-02.csv\n",
      "Resolving nyc-tlc.s3.amazonaws.com (nyc-tlc.s3.amazonaws.com)... 52.217.64.20\n",
      "Connecting to nyc-tlc.s3.amazonaws.com (nyc-tlc.s3.amazonaws.com)|52.217.64.20|:443... connected.\n",
      "HTTP request sent, awaiting response... 200 OK\n",
      "Length: 733822658 (700M) [text/csv]\n",
      "Saving to: ‘fhvhv_tripdata_2021-02.csv’\n",
      "\n",
      "fhvhv_tripdata_2021 100%[===================>] 699.83M  36.1MB/s    in 21s     \n",
      "\n",
      "2022-02-26 09:46:41 (34.1 MB/s) - ‘fhvhv_tripdata_2021-02.csv’ saved [733822658/733822658]\n",
      "\n"
     ]
    }
   ],
   "source": [
    "!wget https://nyc-tlc.s3.amazonaws.com/trip+data/fhvhv_tripdata_2021-02.csv"
   ]
  },
  {
   "cell_type": "code",
   "execution_count": 5,
   "id": "69a40b9a",
   "metadata": {},
   "outputs": [],
   "source": [
    "df = spark.read \\\n",
    "     .option(\"header\", \"true\") \\\n",
    "     .csv('fhvhv_tripdata_2021-02.csv')"
   ]
  },
  {
   "cell_type": "code",
   "execution_count": 12,
   "id": "985fc820",
   "metadata": {},
   "outputs": [
    {
     "data": {
      "text/plain": [
       "StructType(List(StructField(hvfhs_license_num,StringType,true),StructField(dispatching_base_num,StringType,true),StructField(pickup_datetime,StringType,true),StructField(dropoff_datetime,StringType,true),StructField(PULocationID,StringType,true),StructField(DOLocationID,StringType,true),StructField(SR_Flag,StringType,true)))"
      ]
     },
     "execution_count": 12,
     "metadata": {},
     "output_type": "execute_result"
    }
   ],
   "source": [
    "df.schema"
   ]
  },
  {
   "cell_type": "code",
   "execution_count": 6,
   "id": "c5fb077a",
   "metadata": {},
   "outputs": [],
   "source": [
    "schema = types.StructType([\n",
    "    types.StructField('hvfhs_license_num', types.StringType(), True),\n",
    "    types.StructField('dispatching_base_num', types.StringType(), True),\n",
    "    types.StructField('pickup_datetime', types.TimestampType(), True),\n",
    "    types.StructField('dropoff_datetime', types.TimestampType(), True),\n",
    "    types.StructField('PULocationID', types.IntegerType(), True),\n",
    "    types.StructField('DOLocationID', types.IntegerType(), True),\n",
    "    types.StructField('SR_Flag', types.StringType(), True)\n",
    "])"
   ]
  },
  {
   "cell_type": "code",
   "execution_count": 7,
   "id": "92b9a9d4",
   "metadata": {},
   "outputs": [],
   "source": [
    "df = spark.read \\\n",
    "     .option(\"header\", \"true\") \\\n",
    "     .schema(schema) \\\n",
    "     .csv('fhvhv_tripdata_2021-02.csv')"
   ]
  },
  {
   "cell_type": "code",
   "execution_count": 8,
   "id": "b8954b2c",
   "metadata": {},
   "outputs": [],
   "source": [
    "df = df.repartition(24)"
   ]
  },
  {
   "cell_type": "code",
   "execution_count": 17,
   "id": "92525ffd",
   "metadata": {},
   "outputs": [
    {
     "name": "stderr",
     "output_type": "stream",
     "text": [
      "                                                                                \r"
     ]
    }
   ],
   "source": [
    "df.write.parquet(\"fhvhv/2021/02\", mode=\"overwrite\")"
   ]
  },
  {
   "cell_type": "code",
   "execution_count": 19,
   "id": "5163e2f9",
   "metadata": {},
   "outputs": [
    {
     "name": "stdout",
     "output_type": "stream",
     "text": [
      "total 208M\r\n",
      "-rw-r--r-- 1 root root    0 Feb 26 10:00 _SUCCESS\r\n",
      "-rw-r--r-- 1 root root 8.7M Feb 26 10:00 part-00000-2ecf7a4c-3788-4a2a-bce9-388475ada610-c000.snappy.parquet\r\n",
      "-rw-r--r-- 1 root root 8.7M Feb 26 10:00 part-00001-2ecf7a4c-3788-4a2a-bce9-388475ada610-c000.snappy.parquet\r\n",
      "-rw-r--r-- 1 root root 8.7M Feb 26 10:00 part-00002-2ecf7a4c-3788-4a2a-bce9-388475ada610-c000.snappy.parquet\r\n",
      "-rw-r--r-- 1 root root 8.7M Feb 26 10:00 part-00003-2ecf7a4c-3788-4a2a-bce9-388475ada610-c000.snappy.parquet\r\n",
      "-rw-r--r-- 1 root root 8.7M Feb 26 10:00 part-00004-2ecf7a4c-3788-4a2a-bce9-388475ada610-c000.snappy.parquet\r\n",
      "-rw-r--r-- 1 root root 8.7M Feb 26 10:00 part-00005-2ecf7a4c-3788-4a2a-bce9-388475ada610-c000.snappy.parquet\r\n",
      "-rw-r--r-- 1 root root 8.7M Feb 26 10:00 part-00006-2ecf7a4c-3788-4a2a-bce9-388475ada610-c000.snappy.parquet\r\n",
      "-rw-r--r-- 1 root root 8.7M Feb 26 10:00 part-00007-2ecf7a4c-3788-4a2a-bce9-388475ada610-c000.snappy.parquet\r\n",
      "-rw-r--r-- 1 root root 8.7M Feb 26 10:00 part-00008-2ecf7a4c-3788-4a2a-bce9-388475ada610-c000.snappy.parquet\r\n",
      "-rw-r--r-- 1 root root 8.7M Feb 26 10:00 part-00009-2ecf7a4c-3788-4a2a-bce9-388475ada610-c000.snappy.parquet\r\n",
      "-rw-r--r-- 1 root root 8.7M Feb 26 10:00 part-00010-2ecf7a4c-3788-4a2a-bce9-388475ada610-c000.snappy.parquet\r\n",
      "-rw-r--r-- 1 root root 8.7M Feb 26 10:00 part-00011-2ecf7a4c-3788-4a2a-bce9-388475ada610-c000.snappy.parquet\r\n",
      "-rw-r--r-- 1 root root 8.7M Feb 26 10:00 part-00012-2ecf7a4c-3788-4a2a-bce9-388475ada610-c000.snappy.parquet\r\n",
      "-rw-r--r-- 1 root root 8.7M Feb 26 10:00 part-00013-2ecf7a4c-3788-4a2a-bce9-388475ada610-c000.snappy.parquet\r\n",
      "-rw-r--r-- 1 root root 8.7M Feb 26 10:00 part-00014-2ecf7a4c-3788-4a2a-bce9-388475ada610-c000.snappy.parquet\r\n",
      "-rw-r--r-- 1 root root 8.7M Feb 26 10:00 part-00015-2ecf7a4c-3788-4a2a-bce9-388475ada610-c000.snappy.parquet\r\n",
      "-rw-r--r-- 1 root root 8.7M Feb 26 10:00 part-00016-2ecf7a4c-3788-4a2a-bce9-388475ada610-c000.snappy.parquet\r\n",
      "-rw-r--r-- 1 root root 8.7M Feb 26 10:00 part-00017-2ecf7a4c-3788-4a2a-bce9-388475ada610-c000.snappy.parquet\r\n",
      "-rw-r--r-- 1 root root 8.7M Feb 26 10:00 part-00018-2ecf7a4c-3788-4a2a-bce9-388475ada610-c000.snappy.parquet\r\n",
      "-rw-r--r-- 1 root root 8.7M Feb 26 10:00 part-00019-2ecf7a4c-3788-4a2a-bce9-388475ada610-c000.snappy.parquet\r\n",
      "-rw-r--r-- 1 root root 8.7M Feb 26 10:00 part-00020-2ecf7a4c-3788-4a2a-bce9-388475ada610-c000.snappy.parquet\r\n",
      "-rw-r--r-- 1 root root 8.7M Feb 26 10:00 part-00021-2ecf7a4c-3788-4a2a-bce9-388475ada610-c000.snappy.parquet\r\n",
      "-rw-r--r-- 1 root root 8.7M Feb 26 10:00 part-00022-2ecf7a4c-3788-4a2a-bce9-388475ada610-c000.snappy.parquet\r\n",
      "-rw-r--r-- 1 root root 8.7M Feb 26 10:00 part-00023-2ecf7a4c-3788-4a2a-bce9-388475ada610-c000.snappy.parquet\r\n"
     ]
    }
   ],
   "source": [
    "!ls -lh fhvhv/2021/02"
   ]
  },
  {
   "cell_type": "markdown",
   "id": "c01da116",
   "metadata": {},
   "source": [
    "Answer 2: 208MB"
   ]
  },
  {
   "cell_type": "markdown",
   "id": "11c4cc85",
   "metadata": {},
   "source": [
    "## 3"
   ]
  },
  {
   "cell_type": "code",
   "execution_count": 23,
   "id": "1482ff87",
   "metadata": {},
   "outputs": [
    {
     "name": "stderr",
     "output_type": "stream",
     "text": [
      "                                                                                \r"
     ]
    },
    {
     "data": {
      "text/plain": [
       "367170"
      ]
     },
     "execution_count": 23,
     "metadata": {},
     "output_type": "execute_result"
    }
   ],
   "source": [
    "df.select('hvfhs_license_num') \\\n",
    "    .filter(F.to_date(df.pickup_datetime) == '2021-02-15') \\\n",
    "    .count()"
   ]
  },
  {
   "cell_type": "markdown",
   "id": "3e9ec083",
   "metadata": {},
   "source": [
    "Answer 3: 367170"
   ]
  },
  {
   "cell_type": "markdown",
   "id": "5c5c0705",
   "metadata": {},
   "source": [
    "## 4"
   ]
  },
  {
   "cell_type": "code",
   "execution_count": 24,
   "id": "3a8bf6dc",
   "metadata": {},
   "outputs": [],
   "source": [
    "df = df.withColumn(\"duration\", (F.unix_timestamp(df.dropoff_datetime) - F.unix_timestamp(df.pickup_datetime)))"
   ]
  },
  {
   "cell_type": "code",
   "execution_count": 25,
   "id": "901fd18b",
   "metadata": {},
   "outputs": [
    {
     "name": "stderr",
     "output_type": "stream",
     "text": [
      "[Stage 9:==========================================>              (18 + 4) / 24]\r"
     ]
    },
    {
     "name": "stdout",
     "output_type": "stream",
     "text": [
      "+--------+-------------------+\n",
      "|duration|    pickup_datetime|\n",
      "+--------+-------------------+\n",
      "|   75540|2021-02-11 13:40:44|\n",
      "|   57221|2021-02-17 15:54:53|\n",
      "|   44039|2021-02-20 12:08:15|\n",
      "|   40653|2021-02-03 20:24:25|\n",
      "|   37577|2021-02-19 23:17:44|\n",
      "+--------+-------------------+\n",
      "only showing top 5 rows\n",
      "\n"
     ]
    },
    {
     "name": "stderr",
     "output_type": "stream",
     "text": [
      "\r",
      "[Stage 9:====================================================>    (22 + 2) / 24]\r",
      "\r",
      "                                                                                \r"
     ]
    }
   ],
   "source": [
    "df.select('duration','pickup_datetime') \\\n",
    "    .sort(F.desc('duration')) \\\n",
    "    .show(5)"
   ]
  },
  {
   "cell_type": "markdown",
   "id": "aff26886",
   "metadata": {},
   "source": [
    "Answer 4: 2021-02-11"
   ]
  },
  {
   "cell_type": "markdown",
   "id": "40611ab6",
   "metadata": {},
   "source": [
    "## 5"
   ]
  },
  {
   "cell_type": "code",
   "execution_count": 9,
   "id": "15b61a9c",
   "metadata": {},
   "outputs": [],
   "source": [
    "df.registerTempTable('fhvhv_tripdata')\n",
    "\n",
    "query = spark.sql(\"\"\"\n",
    "select dispatching_base_num, count(dispatching_base_num)\n",
    "from fhvhv_tripdata\n",
    "group by 1\n",
    "order by 2 desc\n",
    "\"\"\")"
   ]
  },
  {
   "cell_type": "code",
   "execution_count": 10,
   "id": "8b3bb172",
   "metadata": {},
   "outputs": [
    {
     "name": "stderr",
     "output_type": "stream",
     "text": [
      "[Stage 3:======================================>                (139 + 4) / 200]\r"
     ]
    },
    {
     "name": "stdout",
     "output_type": "stream",
     "text": [
      "+--------------------+---------------------------+\n",
      "|dispatching_base_num|count(dispatching_base_num)|\n",
      "+--------------------+---------------------------+\n",
      "|              B02510|                    3233664|\n",
      "|              B02764|                     965568|\n",
      "|              B02872|                     882689|\n",
      "|              B02875|                     685390|\n",
      "|              B02765|                     559768|\n",
      "|              B02869|                     429720|\n",
      "|              B02887|                     322331|\n",
      "|              B02871|                     312364|\n",
      "|              B02864|                     311603|\n",
      "|              B02866|                     311089|\n",
      "|              B02878|                     305185|\n",
      "|              B02682|                     303255|\n",
      "|              B02617|                     274510|\n",
      "|              B02883|                     251617|\n",
      "|              B02884|                     244963|\n",
      "|              B02882|                     232173|\n",
      "|              B02876|                     215693|\n",
      "|              B02879|                     210137|\n",
      "|              B02867|                     200530|\n",
      "|              B02877|                     198938|\n",
      "+--------------------+---------------------------+\n",
      "only showing top 20 rows\n",
      "\n"
     ]
    },
    {
     "name": "stderr",
     "output_type": "stream",
     "text": [
      "\r",
      "[Stage 3:================================================>      (175 + 4) / 200]\r",
      "\r",
      "                                                                                \r"
     ]
    }
   ],
   "source": [
    "query.show()"
   ]
  },
  {
   "cell_type": "markdown",
   "id": "91517fac",
   "metadata": {},
   "source": [
    "Answer 5: 3"
   ]
  },
  {
   "cell_type": "markdown",
   "id": "967e491a",
   "metadata": {},
   "source": [
    "## 6"
   ]
  },
  {
   "cell_type": "code",
   "execution_count": 12,
   "id": "e1f82860",
   "metadata": {},
   "outputs": [],
   "source": [
    "zones = spark.read.csv(\"taxi+_zone_lookup.csv\", header=True)\n",
    "zones.registerTempTable('zones')"
   ]
  },
  {
   "cell_type": "code",
   "execution_count": 14,
   "id": "310969c9",
   "metadata": {},
   "outputs": [
    {
     "data": {
      "text/plain": [
       "[Row(LocationID='1', Borough='EWR', Zone='Newark Airport', service_zone='EWR'),\n",
       " Row(LocationID='2', Borough='Queens', Zone='Jamaica Bay', service_zone='Boro Zone'),\n",
       " Row(LocationID='3', Borough='Bronx', Zone='Allerton/Pelham Gardens', service_zone='Boro Zone'),\n",
       " Row(LocationID='4', Borough='Manhattan', Zone='Alphabet City', service_zone='Yellow Zone'),\n",
       " Row(LocationID='5', Borough='Staten Island', Zone='Arden Heights', service_zone='Boro Zone'),\n",
       " Row(LocationID='6', Borough='Staten Island', Zone='Arrochar/Fort Wadsworth', service_zone='Boro Zone'),\n",
       " Row(LocationID='7', Borough='Queens', Zone='Astoria', service_zone='Boro Zone'),\n",
       " Row(LocationID='8', Borough='Queens', Zone='Astoria Park', service_zone='Boro Zone'),\n",
       " Row(LocationID='9', Borough='Queens', Zone='Auburndale', service_zone='Boro Zone'),\n",
       " Row(LocationID='10', Borough='Queens', Zone='Baisley Park', service_zone='Boro Zone')]"
      ]
     },
     "execution_count": 14,
     "metadata": {},
     "output_type": "execute_result"
    }
   ],
   "source": [
    "zones.head(10)"
   ]
  },
  {
   "cell_type": "code",
   "execution_count": 18,
   "id": "77db887e",
   "metadata": {},
   "outputs": [],
   "source": [
    "query = spark.sql(\"\"\"\n",
    "select zones_pu.Zone, zones_do.Zone, count(dispatching_base_num)\n",
    "from fhvhv_tripdata\n",
    "left join zones as zones_pu on fhvhv_tripdata.PUlocationid = zones_pu.Locationid\n",
    "left join zones as zones_do on fhvhv_tripdata.DOlocationid = zones_do.Locationid\n",
    "where fhvhv_tripdata.PUlocationid != fhvhv_tripdata.DOlocationid\n",
    "group by 1, 2\n",
    "order by 3 desc\n",
    "limit 5\n",
    "\"\"\")"
   ]
  },
  {
   "cell_type": "code",
   "execution_count": 19,
   "id": "9d50e402",
   "metadata": {},
   "outputs": [
    {
     "name": "stderr",
     "output_type": "stream",
     "text": [
      "[Stage 16:============================================>         (166 + 4) / 200]\r"
     ]
    },
    {
     "name": "stdout",
     "output_type": "stream",
     "text": [
      "+--------------------+--------------------+---------------------------+\n",
      "|                Zone|                Zone|count(dispatching_base_num)|\n",
      "+--------------------+--------------------+---------------------------+\n",
      "|         JFK Airport|                  NA|                      12542|\n",
      "|Prospect-Lefferts...| Crown Heights North|                      11814|\n",
      "|      Bushwick North|      Bushwick South|                      11491|\n",
      "|      Bushwick South|      Bushwick North|                      11487|\n",
      "| Crown Heights North|Prospect-Lefferts...|                      11462|\n",
      "+--------------------+--------------------+---------------------------+\n",
      "\n"
     ]
    },
    {
     "name": "stderr",
     "output_type": "stream",
     "text": [
      "\r",
      "                                                                                \r"
     ]
    }
   ],
   "source": [
    "query.show()"
   ]
  },
  {
   "cell_type": "markdown",
   "id": "1b6a267d",
   "metadata": {},
   "source": [
    "Answer 6: JFK Airport / NA"
   ]
  },
  {
   "cell_type": "code",
   "execution_count": null,
   "id": "b7db169b",
   "metadata": {},
   "outputs": [],
   "source": []
  }
 ],
 "metadata": {
  "kernelspec": {
   "display_name": "Python 3 (ipykernel)",
   "language": "python",
   "name": "python3"
  },
  "language_info": {
   "codemirror_mode": {
    "name": "ipython",
    "version": 3
   },
   "file_extension": ".py",
   "mimetype": "text/x-python",
   "name": "python",
   "nbconvert_exporter": "python",
   "pygments_lexer": "ipython3",
   "version": "3.9.7"
  }
 },
 "nbformat": 4,
 "nbformat_minor": 5
}
